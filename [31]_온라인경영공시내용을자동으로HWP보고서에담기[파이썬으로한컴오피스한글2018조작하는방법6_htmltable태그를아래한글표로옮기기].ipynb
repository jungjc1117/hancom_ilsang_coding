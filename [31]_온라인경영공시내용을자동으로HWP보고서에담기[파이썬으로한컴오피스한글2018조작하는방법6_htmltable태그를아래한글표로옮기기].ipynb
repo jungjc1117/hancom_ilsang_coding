{
 "cells": [
  {
   "cell_type": "code",
   "execution_count": 22,
   "metadata": {},
   "outputs": [],
   "source": [
    "from time import sleep\n",
    "\n",
    "import pyperclip as cb\n",
    "import pandas as pd\n",
    "from selenium import webdriver\n",
    "from selenium.webdriver.chrome.service import Service\n",
    "from selenium.webdriver.chrome.options import Options\n",
    "from selenium.webdriver.common.by import By\n",
    "from selenium.webdriver.support.ui import WebDriverWait\n",
    "from selenium.webdriver.support import expected_conditions as EC\n",
    "import win32com.client as win32"
   ]
  },
  {
   "cell_type": "code",
   "execution_count": 23,
   "metadata": {},
   "outputs": [],
   "source": [
    "chromedriver_path = r\"C:\\Users\\jjc\\Desktop\\한컴오피스 업무자동화 입문\\chromedriver-win64\\chromedriver.exe\"\n",
    "chrome_options = Options()\n",
    "service = Service(executable_path=chromedriver_path)\n",
    "driver = webdriver.Chrome(service=service, options=chrome_options)\n",
    "driver.get('http://dart.fss.or.kr/dsac001/mainAll.do')"
   ]
  },
  {
   "cell_type": "code",
   "execution_count": 24,
   "metadata": {},
   "outputs": [
    {
     "data": {
      "text/plain": [
       "[\"openReportViewer('20240827000227'); return false;\",\n",
       " \"openReportViewer('20240827000222'); return false;\",\n",
       " \"openReportViewer('20240827000221'); return false;\",\n",
       " \"openReportViewer('20240827000219'); return false;\",\n",
       " \"openReportViewer('20240827000215'); return false;\"]"
      ]
     },
     "execution_count": 24,
     "metadata": {},
     "output_type": "execute_result"
    }
   ],
   "source": [
    "# onclick_list = []\n",
    "# for i in driver.find_elements_by_css_selector('a[href^=\"/dsaf001/main.do?rcpNo=\"]'):\n",
    "# onclick_list.append(i.get_attribute('onclick'))\n",
    "onclick_list = [\n",
    "i.get_attribute('onclick') for i in driver.find_elements(By.CSS_SELECTOR, 'a[href^=\"/dsaf001/main.do?rcpNo=\"]')]\n",
    "onclick_list[:5]"
   ]
  },
  {
   "cell_type": "code",
   "execution_count": 26,
   "metadata": {},
   "outputs": [
    {
     "ename": "TimeoutException",
     "evalue": "Message: \nStacktrace:\n\tGetHandleVerifier [0x00007FF72496B632+29090]\n\t(No symbol) [0x00007FF7248DE6E9]\n\t(No symbol) [0x00007FF72479B1CA]\n\t(No symbol) [0x00007FF7247EEFD7]\n\t(No symbol) [0x00007FF7247EF22C]\n\t(No symbol) [0x00007FF7248397F7]\n\t(No symbol) [0x00007FF72481672F]\n\t(No symbol) [0x00007FF7248365D9]\n\t(No symbol) [0x00007FF724816493]\n\t(No symbol) [0x00007FF7247E09B1]\n\t(No symbol) [0x00007FF7247E1B11]\n\tGetHandleVerifier [0x00007FF724C8881D+3294093]\n\tGetHandleVerifier [0x00007FF724CD4403+3604339]\n\tGetHandleVerifier [0x00007FF724CCA2C7+3563063]\n\tGetHandleVerifier [0x00007FF724A26F16+797318]\n\t(No symbol) [0x00007FF7248E986F]\n\t(No symbol) [0x00007FF7248E5454]\n\t(No symbol) [0x00007FF7248E55E0]\n\t(No symbol) [0x00007FF7248D4A7F]\n\tBaseThreadInitThunk [0x00007FF910EB257D+29]\n\tRtlUserThreadStart [0x00007FF9127CAF28+40]\n",
     "output_type": "error",
     "traceback": [
      "\u001b[1;31m---------------------------------------------------------------------------\u001b[0m",
      "\u001b[1;31mTimeoutException\u001b[0m                          Traceback (most recent call last)",
      "Cell \u001b[1;32mIn[26], line 13\u001b[0m\n\u001b[0;32m     10\u001b[0m driver\u001b[38;5;241m.\u001b[39mswitch_to\u001b[38;5;241m.\u001b[39mwindow(driver\u001b[38;5;241m.\u001b[39mwindow_handles[\u001b[38;5;241m1\u001b[39m])\n\u001b[0;32m     12\u001b[0m \u001b[38;5;66;03m# Wait until the download element is present\u001b[39;00m\n\u001b[1;32m---> 13\u001b[0m download_element \u001b[38;5;241m=\u001b[39m \u001b[43mWebDriverWait\u001b[49m\u001b[43m(\u001b[49m\u001b[43mdriver\u001b[49m\u001b[43m,\u001b[49m\u001b[43m \u001b[49m\u001b[38;5;241;43m10\u001b[39;49m\u001b[43m)\u001b[49m\u001b[38;5;241;43m.\u001b[39;49m\u001b[43muntil\u001b[49m\u001b[43m(\u001b[49m\n\u001b[0;32m     14\u001b[0m \u001b[43m    \u001b[49m\u001b[43mEC\u001b[49m\u001b[38;5;241;43m.\u001b[39;49m\u001b[43mpresence_of_element_located\u001b[49m\u001b[43m(\u001b[49m\u001b[43m(\u001b[49m\u001b[43mBy\u001b[49m\u001b[38;5;241;43m.\u001b[39;49m\u001b[43mCSS_SELECTOR\u001b[49m\u001b[43m,\u001b[49m\u001b[43m \u001b[49m\u001b[38;5;124;43m'\u001b[39;49m\u001b[38;5;124;43ma[href=\u001b[39;49m\u001b[38;5;124;43m\"\u001b[39;49m\u001b[38;5;124;43m#openPdfDownload\u001b[39;49m\u001b[38;5;124;43m\"\u001b[39;49m\u001b[38;5;124;43m]\u001b[39;49m\u001b[38;5;124;43m'\u001b[39;49m\u001b[43m)\u001b[49m\u001b[43m)\u001b[49m\n\u001b[0;32m     15\u001b[0m \u001b[43m\u001b[49m\u001b[43m)\u001b[49m\n\u001b[0;32m     16\u001b[0m download_script \u001b[38;5;241m=\u001b[39m download_element\u001b[38;5;241m.\u001b[39mget_attribute(\u001b[38;5;124m'\u001b[39m\u001b[38;5;124monclick\u001b[39m\u001b[38;5;124m'\u001b[39m)\n\u001b[0;32m     18\u001b[0m \u001b[38;5;66;03m# Execute the 'onclick' script to open the download window\u001b[39;00m\n",
      "File \u001b[1;32mc:\\Users\\jjc\\AppData\\Local\\Programs\\Python\\Python312\\Lib\\site-packages\\selenium\\webdriver\\support\\wait.py:105\u001b[0m, in \u001b[0;36mWebDriverWait.until\u001b[1;34m(self, method, message)\u001b[0m\n\u001b[0;32m    103\u001b[0m     \u001b[38;5;28;01mif\u001b[39;00m time\u001b[38;5;241m.\u001b[39mmonotonic() \u001b[38;5;241m>\u001b[39m end_time:\n\u001b[0;32m    104\u001b[0m         \u001b[38;5;28;01mbreak\u001b[39;00m\n\u001b[1;32m--> 105\u001b[0m \u001b[38;5;28;01mraise\u001b[39;00m TimeoutException(message, screen, stacktrace)\n",
      "\u001b[1;31mTimeoutException\u001b[0m: Message: \nStacktrace:\n\tGetHandleVerifier [0x00007FF72496B632+29090]\n\t(No symbol) [0x00007FF7248DE6E9]\n\t(No symbol) [0x00007FF72479B1CA]\n\t(No symbol) [0x00007FF7247EEFD7]\n\t(No symbol) [0x00007FF7247EF22C]\n\t(No symbol) [0x00007FF7248397F7]\n\t(No symbol) [0x00007FF72481672F]\n\t(No symbol) [0x00007FF7248365D9]\n\t(No symbol) [0x00007FF724816493]\n\t(No symbol) [0x00007FF7247E09B1]\n\t(No symbol) [0x00007FF7247E1B11]\n\tGetHandleVerifier [0x00007FF724C8881D+3294093]\n\tGetHandleVerifier [0x00007FF724CD4403+3604339]\n\tGetHandleVerifier [0x00007FF724CCA2C7+3563063]\n\tGetHandleVerifier [0x00007FF724A26F16+797318]\n\t(No symbol) [0x00007FF7248E986F]\n\t(No symbol) [0x00007FF7248E5454]\n\t(No symbol) [0x00007FF7248E55E0]\n\t(No symbol) [0x00007FF7248D4A7F]\n\tBaseThreadInitThunk [0x00007FF910EB257D+29]\n\tRtlUserThreadStart [0x00007FF9127CAF28+40]\n"
     ]
    }
   ],
   "source": [
    "link_list = []\n",
    "for i in onclick_list:\n",
    "    # Execute the script to open the new window\n",
    "    driver.execute_script(i)\n",
    "\n",
    "    # Wait until a new window is opened\n",
    "    WebDriverWait(driver, 10).until(lambda d: len(d.window_handles) > 1)\n",
    "\n",
    "    # Switch to the newly opened window\n",
    "    driver.switch_to.window(driver.window_handles[1])\n",
    "\n",
    "    # Wait until the download element is present\n",
    "    download_element = WebDriverWait(driver, 10).until(\n",
    "        EC.presence_of_element_located((By.CSS_SELECTOR, 'a[href=\"#openPdfDownload\"]'))\n",
    "    )\n",
    "    download_script = download_element.get_attribute('onclick')\n",
    "\n",
    "    # Execute the 'onclick' script to open the download window\n",
    "    driver.execute_script(download_script)\n",
    "\n",
    "    # Wait until the new window for the PDF is opened\n",
    "    WebDriverWait(driver, 10).until(lambda d: len(d.window_handles) > 2)\n",
    "\n",
    "    # Switch to the PDF download window\n",
    "    driver.switch_to.window(driver.window_handles[2])\n",
    "\n",
    "    # Wait until the PDF link is present and retrieve it\n",
    "    pdf_link = WebDriverWait(driver, 10).until(\n",
    "        EC.presence_of_element_located((By.CSS_SELECTOR, 'a[href^=\"/pdf\"]'))\n",
    "    ).get_attribute('href')\n",
    "\n",
    "    # Append the PDF link to the list\n",
    "    current_len = len(link_list)\n",
    "    link_list.append(pdf_link)\n",
    "\n",
    "    # Wait until the list is updated\n",
    "    while len(link_list) == current_len:\n",
    "        sleep(0.1)\n",
    "    print(link_list[-1])\n",
    "\n",
    "    # Close the opened tabs and switch back to the original window\n",
    "    driver.close()\n",
    "    driver.switch_to.window(driver.window_handles[1])\n",
    "    driver.close()\n",
    "    driver.switch_to.window(driver.window_handles[0])\n"
   ]
  },
  {
   "cell_type": "code",
   "execution_count": null,
   "metadata": {},
   "outputs": [],
   "source": [
    "# 너무 오래 걸리는 관계로.\n",
    "import pickle\n",
    "with open(r\"C:WUsers#smj02#Desktopthwp-파이썬관련코드wlink_list.pickle\", 'rb') as f:\n",
    "    link_list = pickle.load(f)"
   ]
  },
  {
   "cell_type": "code",
   "execution_count": null,
   "metadata": {},
   "outputs": [],
   "source": [
    "link_list [:3]"
   ]
  },
  {
   "cell_type": "code",
   "execution_count": null,
   "metadata": {},
   "outputs": [],
   "source": [
    "# driver.page_source\n",
    "# table = pd.read_html(driver.page_source)\n",
    "table = pd.read_html (driver.page_source) [0]\n",
    "\n",
    "driver.close()"
   ]
  },
  {
   "cell_type": "code",
   "execution_count": null,
   "metadata": {},
   "outputs": [],
   "source": [
    "table.head()"
   ]
  },
  {
   "cell_type": "code",
   "execution_count": null,
   "metadata": {},
   "outputs": [],
   "source": [
    "len(table)"
   ]
  },
  {
   "cell_type": "code",
   "execution_count": null,
   "metadata": {},
   "outputs": [],
   "source": [
    "len(table.columns)"
   ]
  },
  {
   "cell_type": "code",
   "execution_count": null,
   "metadata": {},
   "outputs": [],
   "source": [
    "hwp = win32.Dispatch( 'HWPFrame.HwpObject')\n",
    "hwp.RegisterModule(\"FilePathCheckDLL\", \"SecurityModule\") # 50/25"
   ]
  },
  {
   "cell_type": "code",
   "execution_count": null,
   "metadata": {},
   "outputs": [],
   "source": [
    "hwp.Open(r\"C:WUsersWsmj02WDesktopWdart_template.hwp\")"
   ]
  },
  {
   "cell_type": "code",
   "execution_count": null,
   "metadata": {},
   "outputs": [],
   "source": [
    "def hwp_insert_hyperlink(text, url):\n",
    "    hwp.HAction.Run(\"TableCelIBlock\")\n",
    "    hwp.HAction.GetDefault(\"InsertHyperlink\", hwp.HParameterSet.HHyperLink.HSet)\n",
    "    hwp.HParameterSet.HHyperLink. Text = text\n",
    "    hwp.HParameterSet.HHyperLink. Command = ur\n",
    "    hwp.HAction.Execute(\"InsertHyperlink\", hwp.HParameterSet.HHyperLink.HSet)"
   ]
  },
  {
   "cell_type": "code",
   "execution_count": null,
   "metadata": {},
   "outputs": [],
   "source": [
    "def hwp_insert_text(text):\n",
    "    hwp.HAction. GetDefault (\"InsertText\", hwp.HParameterSet .HInsertText .HSet)\n",
    "    hwp.HParameterSet.HInsertText.Text = text\n",
    "    hwp.HAction.Execute(\" InsertText\", hwp.HParameterSet.HInsertText.HSet)"
   ]
  },
  {
   "cell_type": "code",
   "execution_count": null,
   "metadata": {},
   "outputs": [],
   "source": [
    "# for i in len(table):\n",
    "#    for j in table. loc[i]:\n",
    "#        cb.copy(j)\n",
    "#        hwp.Aun('Paste')\n",
    "#        hwp. Aun('TableRightCe/|Append'\n",
    "#    hwp.Aun('TableAppendRow')"
   ]
  },
  {
   "cell_type": "code",
   "execution_count": null,
   "metadata": {},
   "outputs": [],
   "source": [
    "# 종 더 다듬어보면\n",
    "for i in range(len(table)):\n",
    "    for idx, text in enumerate(table.loc[i]):\n",
    "        if idx == 0 and i == 0:\n",
    "            hwp_insert_text(text)\n",
    "        elif idx == 2: # 보고서명 칼럼, 하이퍼링크를 삽입해야 한다.\n",
    "            hwp.Run( 'TableRightCel lAppend')\n",
    "            hwp_insert_hyperlink(text=text, url='{}:1:0;0'.format(link_list[i].replace(\"?\",\"₩#?\")))\n",
    "        elif idx == 5: # 오른쪽 끝 비고란, 전부 Nan이므로 아무것도 입력하지 않고 넘어간다.\n",
    "            hwp.Run('TableRightCel lAppend')\n",
    "        else: # 그 외에는 텍스트를 그대로 입력한다.\n",
    "            hwp.Run('TableRightCellAppend')\n",
    "            hwp_insert_text(text)"
   ]
  }
 ],
 "metadata": {
  "kernelspec": {
   "display_name": "Python 3",
   "language": "python",
   "name": "python3"
  },
  "language_info": {
   "codemirror_mode": {
    "name": "ipython",
    "version": 3
   },
   "file_extension": ".py",
   "mimetype": "text/x-python",
   "name": "python",
   "nbconvert_exporter": "python",
   "pygments_lexer": "ipython3",
   "version": "3.12.5"
  }
 },
 "nbformat": 4,
 "nbformat_minor": 2
}
