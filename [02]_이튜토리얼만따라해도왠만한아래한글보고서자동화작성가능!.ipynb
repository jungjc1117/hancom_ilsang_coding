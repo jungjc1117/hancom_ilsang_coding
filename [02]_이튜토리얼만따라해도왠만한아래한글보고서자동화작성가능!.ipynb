{
 "cells": [
  {
   "cell_type": "code",
   "execution_count": 1,
   "metadata": {},
   "outputs": [],
   "source": [
    "import win32com.client as win32\n",
    "import pandas as pd"
   ]
  },
  {
   "cell_type": "code",
   "execution_count": 4,
   "metadata": {},
   "outputs": [],
   "source": [
    "hwp = win32.gencache.EnsureDispatch(\"HWPFrame.HwpObject\")"
   ]
  },
  {
   "cell_type": "code",
   "execution_count": 5,
   "metadata": {},
   "outputs": [],
   "source": [
    "hwp.XHwpWindows.Item(0).Visible = True  "
   ]
  },
  {
   "cell_type": "code",
   "execution_count": 7,
   "metadata": {},
   "outputs": [
    {
     "data": {
      "text/plain": [
       "True"
      ]
     },
     "execution_count": 7,
     "metadata": {},
     "output_type": "execute_result"
    }
   ],
   "source": [
    "hwp.Open(r\"C:\\Users\\jjc\\Desktop\\학과심사_평가집계표_서식.hwpx\")"
   ]
  },
  {
   "cell_type": "code",
   "execution_count": 9,
   "metadata": {},
   "outputs": [],
   "source": [
    "df = pd.read_excel(r\"C:\\Users\\jjc\\Desktop\\학생명단.xlsx\")"
   ]
  },
  {
   "cell_type": "code",
   "execution_count": 15,
   "metadata": {},
   "outputs": [
    {
     "data": {
      "text/html": [
       "<div>\n",
       "<style scoped>\n",
       "    .dataframe tbody tr th:only-of-type {\n",
       "        vertical-align: middle;\n",
       "    }\n",
       "\n",
       "    .dataframe tbody tr th {\n",
       "        vertical-align: top;\n",
       "    }\n",
       "\n",
       "    .dataframe thead th {\n",
       "        text-align: right;\n",
       "    }\n",
       "</style>\n",
       "<table border=\"1\" class=\"dataframe\">\n",
       "  <thead>\n",
       "    <tr style=\"text-align: right;\">\n",
       "      <th></th>\n",
       "      <th>수험번호</th>\n",
       "      <th>전형구분</th>\n",
       "      <th>지망학과</th>\n",
       "      <th>성명</th>\n",
       "    </tr>\n",
       "  </thead>\n",
       "  <tbody>\n",
       "    <tr>\n",
       "      <th>0</th>\n",
       "      <td>123400002</td>\n",
       "      <td>석사(Master)</td>\n",
       "      <td>국어국문학과</td>\n",
       "      <td>Zachary Santiago</td>\n",
       "    </tr>\n",
       "    <tr>\n",
       "      <th>1</th>\n",
       "      <td>123400012</td>\n",
       "      <td>석사(Master)</td>\n",
       "      <td>국어국문학과</td>\n",
       "      <td>Marcus Keller</td>\n",
       "    </tr>\n",
       "    <tr>\n",
       "      <th>2</th>\n",
       "      <td>123400022</td>\n",
       "      <td>석사(Master)</td>\n",
       "      <td>국어국문학과</td>\n",
       "      <td>Jared Robe</td>\n",
       "    </tr>\n",
       "    <tr>\n",
       "      <th>3</th>\n",
       "      <td>123400032</td>\n",
       "      <td>석사(Master)</td>\n",
       "      <td>국어국문학과</td>\n",
       "      <td>Christine Hebert</td>\n",
       "    </tr>\n",
       "    <tr>\n",
       "      <th>4</th>\n",
       "      <td>123400042</td>\n",
       "      <td>석사(Master)</td>\n",
       "      <td>국어국문학과</td>\n",
       "      <td>Alex Salazar</td>\n",
       "    </tr>\n",
       "    <tr>\n",
       "      <th>5</th>\n",
       "      <td>123400052</td>\n",
       "      <td>석사(Master)</td>\n",
       "      <td>국어국문학과</td>\n",
       "      <td>Janet Orr</td>\n",
       "    </tr>\n",
       "  </tbody>\n",
       "</table>\n",
       "</div>"
      ],
      "text/plain": [
       "        수험번호        전형구분    지망학과                성명\n",
       "0  123400002  석사(Master)  국어국문학과  Zachary Santiago\n",
       "1  123400012  석사(Master)  국어국문학과     Marcus Keller\n",
       "2  123400022  석사(Master)  국어국문학과        Jared Robe\n",
       "3  123400032  석사(Master)  국어국문학과  Christine Hebert\n",
       "4  123400042  석사(Master)  국어국문학과      Alex Salazar\n",
       "5  123400052  석사(Master)  국어국문학과         Janet Orr"
      ]
     },
     "execution_count": 15,
     "metadata": {},
     "output_type": "execute_result"
    }
   ],
   "source": [
    "# df에서 학과가 \"국어국문학과\"인 행만 추출\n",
    "df[(df[\"지망학과\"] == \"국어국문학과\") & (df[\"전형구분\"] == \"석사(Master)\")]"
   ]
  },
  {
   "cell_type": "code",
   "execution_count": null,
   "metadata": {},
   "outputs": [],
   "source": []
  }
 ],
 "metadata": {
  "kernelspec": {
   "display_name": "Python 3",
   "language": "python",
   "name": "python3"
  },
  "language_info": {
   "codemirror_mode": {
    "name": "ipython",
    "version": 3
   },
   "file_extension": ".py",
   "mimetype": "text/x-python",
   "name": "python",
   "nbconvert_exporter": "python",
   "pygments_lexer": "ipython3",
   "version": "3.12.5"
  }
 },
 "nbformat": 4,
 "nbformat_minor": 2
}
