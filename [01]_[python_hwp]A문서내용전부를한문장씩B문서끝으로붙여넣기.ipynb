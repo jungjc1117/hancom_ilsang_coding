{
 "cells": [
  {
   "cell_type": "code",
   "execution_count": 8,
   "metadata": {},
   "outputs": [],
   "source": [
    "import win32com.client as win32\n",
    "\n",
    "hwp = win32.gencache.EnsureDispatch(\"HWPFrame.HwpObject\")\n",
    "hwp.XHwpWindows.Item(0).Visible = True"
   ]
  },
  {
   "cell_type": "code",
   "execution_count": 45,
   "metadata": {},
   "outputs": [],
   "source": [
    "sentence_list = hwp.GetTextFile(Format=\"UNICODE\", option=None)"
   ]
  },
  {
   "cell_type": "code",
   "execution_count": 46,
   "metadata": {},
   "outputs": [],
   "source": [
    "sentence_list = [i for i in sentence_list.split(\"\\r\\n\") if i]"
   ]
  },
  {
   "cell_type": "code",
   "execution_count": 47,
   "metadata": {},
   "outputs": [
    {
     "data": {
      "text/plain": [
       "['12312312ㅓ3ㅐ13ㅐ4104391203-871-20938-102',\n",
       " '1237ㅕ1290847198274',\n",
       " '첫 번째 문장입니다.',\n",
       " '두 번째 문장입니다.',\n",
       " '세 번째 문장입니다.',\n",
       " '첫 번째 문장입니다.',\n",
       " '두 번째 문장입니다.',\n",
       " '세 번째 문장입니다.',\n",
       " '첫 번째 문장입니다.',\n",
       " '두 번째 문장입니다.',\n",
       " '세 번째 문장입니다.',\n",
       " '첫 번째 문장입니다.',\n",
       " '두 번째 문장입니다.',\n",
       " '세 번째 문장입니다.',\n",
       " '첫 번째 문장입니다.',\n",
       " '두 번째 문장입니다.',\n",
       " '세 번째 문장입니다.',\n",
       " '첫 번째 문장입니다.',\n",
       " '두 번째 문장입니다.',\n",
       " '세 번째 문장입니다.',\n",
       " '첫 번째 문장입니다.',\n",
       " '두 번째 문장입니다.',\n",
       " '세 번째 문장입니다.',\n",
       " '첫 번째 문장입니다.',\n",
       " '두 번째 문장입니다.',\n",
       " '세 번째 문장입니다.',\n",
       " '-1024\\\\',\n",
       " '194827198734958-30459-345',\n",
       " '40984509=-0ㄴㅇ리ㅏ헐이ㅏ럼ㄴ아ᅟᅵᆯ',\n",
       " '98098468']"
      ]
     },
     "execution_count": 47,
     "metadata": {},
     "output_type": "execute_result"
    }
   ],
   "source": [
    "sentence_list"
   ]
  },
  {
   "cell_type": "code",
   "execution_count": 12,
   "metadata": {},
   "outputs": [],
   "source": [
    "hwp.Run(\"FileNew\")"
   ]
  },
  {
   "cell_type": "code",
   "execution_count": 48,
   "metadata": {},
   "outputs": [],
   "source": [
    "hwp.XHwpDocuments.Item(0).SetActive_XHwpDocument()"
   ]
  },
  {
   "cell_type": "code",
   "execution_count": 49,
   "metadata": {},
   "outputs": [],
   "source": [
    "for _ in range(10): hwp.Run(\"BreakPara\")"
   ]
  },
  {
   "cell_type": "code",
   "execution_count": 23,
   "metadata": {},
   "outputs": [],
   "source": [
    "for _ in range(100): hwp.Run(\"BreakPara\")"
   ]
  },
  {
   "cell_type": "code",
   "execution_count": 50,
   "metadata": {},
   "outputs": [],
   "source": [
    "hwp.Run(\"MoveDocEnd\")"
   ]
  },
  {
   "cell_type": "code",
   "execution_count": 29,
   "metadata": {},
   "outputs": [
    {
     "name": "stdout",
     "output_type": "stream",
     "text": [
      "Collecting pyperclip\n",
      "  Downloading pyperclip-1.9.0.tar.gz (20 kB)\n",
      "  Installing build dependencies: started\n",
      "  Installing build dependencies: finished with status 'done'\n",
      "  Getting requirements to build wheel: started\n",
      "  Getting requirements to build wheel: finished with status 'done'\n",
      "  Preparing metadata (pyproject.toml): started\n",
      "  Preparing metadata (pyproject.toml): finished with status 'done'\n",
      "Building wheels for collected packages: pyperclip\n",
      "  Building wheel for pyperclip (pyproject.toml): started\n",
      "  Building wheel for pyperclip (pyproject.toml): finished with status 'done'\n",
      "  Created wheel for pyperclip: filename=pyperclip-1.9.0-py3-none-any.whl size=11020 sha256=c7d966ac1570736bdfae8dcd6b63fc929bcfe4fd880bf2eecc6ca0f416865c00\n",
      "  Stored in directory: c:\\users\\jjc\\appdata\\local\\pip\\cache\\wheels\\e0\\e8\\fc\\8ab8aa326e33bc066ccd5f3ca9646eab4299881af933f94f09\n",
      "Successfully built pyperclip\n",
      "Installing collected packages: pyperclip\n",
      "Successfully installed pyperclip-1.9.0\n",
      "Note: you may need to restart the kernel to use updated packages.\n"
     ]
    }
   ],
   "source": [
    "%pip install pyperclip"
   ]
  },
  {
   "cell_type": "code",
   "execution_count": 51,
   "metadata": {},
   "outputs": [],
   "source": [
    "def insert_text(text):\n",
    "    hwp.HAction.GetDefault(\"InsertText\", hwp.HParameterSet.HInsertText.HSet)\n",
    "    hwp.HParameterSet.HInsertText.Text = text\n",
    "    return hwp.HAction.Execute(\"InsertText\", hwp.HParameterSet.HInsertText.HSet)\n",
    "\n",
    "# import pyperclip as cb\n",
    "if hwp.GetPos()[-1] != 0:\n",
    "    hwp.Run(\"BreakPara\")\n",
    "for s in sentence_list:\n",
    "    cb.copy(s)\n",
    "    hwp.Run(\"Paste\")\n",
    "    hwp.Run(\"BreakPara\")"
   ]
  },
  {
   "cell_type": "code",
   "execution_count": null,
   "metadata": {},
   "outputs": [],
   "source": []
  }
 ],
 "metadata": {
  "kernelspec": {
   "display_name": "Python 3",
   "language": "python",
   "name": "python3"
  },
  "language_info": {
   "codemirror_mode": {
    "name": "ipython",
    "version": 3
   },
   "file_extension": ".py",
   "mimetype": "text/x-python",
   "name": "python",
   "nbconvert_exporter": "python",
   "pygments_lexer": "ipython3",
   "version": "3.12.5"
  }
 },
 "nbformat": 4,
 "nbformat_minor": 2
}
