{
 "cells": [
  {
   "cell_type": "code",
   "execution_count": 1,
   "metadata": {},
   "outputs": [],
   "source": [
    "import os"
   ]
  },
  {
   "cell_type": "code",
   "execution_count": 2,
   "metadata": {},
   "outputs": [
    {
     "data": {
      "text/plain": [
       "['chromedriver-win32',\n",
       " 'chromedriver-win64',\n",
       " '[01]_[python-hwp] A문서 내용 전부를 한문장씩 B문서 끝으로 붙여넣기.ipynb',\n",
       " '[01]_[python-hwp] A문서 내용 전부를 한문장씩 B문서 끝으로 붙여넣기.mp4',\n",
       " '[02]_이 튜토리얼만 따라해도 왠만한 아래한글 보고서 자동화 작성가능!.ipynb',\n",
       " '[02]_이 튜토리얼만 따라해도 왠만한 아래한글 보고서 자동화 작성가능!.mp4',\n",
       " '[03]_[python+hwp] 표창장 자동완성 - 판다스 활용하기.mp4',\n",
       " '[03]_[python+hwp] 표창장 자동완성 - 판다스 활용하기.py',\n",
       " '[04]_.ipynb',\n",
       " '[04]_녹화 2023 02 09 20 56 16 363.mp4',\n",
       " '[05]_파이썬 환경변수 추가하는 법.mp4',\n",
       " '[06]_[python+hwp] 누름틀 없는 대량의 한글문서를 엑셀에 취합하는 라이브코딩.hwpx',\n",
       " '[06]_[python+hwp] 누름틀 없는 대량의 한글문서를 엑셀에 취합하는 라이브코딩.mp4',\n",
       " '[06]_[python+hwp] 누름틀 없는 대량의 한글문서를 엑셀에 취합하는 라이브코딩.py',\n",
       " '[06]_[python+hwp] 누름틀 없는 대량의 한글문서를 엑셀에 취합하는 라이브코딩.xlsx',\n",
       " '[07]_.hwpx',\n",
       " '[07]_[파이썬+한컴오피스 자동화] 글상자 내용 본문으로 꺼내기.mp4',\n",
       " '[07]_[파이썬+한컴오피스 자동화] 글상자 내용 본문으로 꺼내기.py',\n",
       " '[08]_.ipynb',\n",
       " '[08]_파이썬+한_글로 가장 강력한 문자열 가공 프로그램 만들기.mp4',\n",
       " '[09]_날짜 문자열 뒤에 전부 요일 붙여주기.hwpx',\n",
       " '[09]_날짜 문자열 뒤에 전부 요일 붙여주기.mp4',\n",
       " '[09]_날짜 문자열 뒤에 전부 요일 붙여주기.py',\n",
       " '[10]_파이썬으로 엑셀 날짜값을 한_글로 옮기는 방법.ipynb',\n",
       " '[10]_파이썬으로 엑셀 날짜값을 한_글로 옮기는 방법.mp4',\n",
       " '[12]_msit.go.kr 연구성과 hwp파일 크롤링 및 문서병합 시연.mp4',\n",
       " '[12]_msit.go.kr 연구성과 hwp파일 크롤링 및 문서병합 시연.py',\n",
       " '[13]_.ipynb',\n",
       " '[13]_[회사원을 위한 파이썬-한_글 자동화] 표에 RGB값 일일이 넣어서 트와이스 사나 그려보기(회사원코딩 소개).mp4',\n",
       " '[14]_[파이썬-아래아한글자동화] 초간단 파이썬코딩으로 픽셀아트(100x50) 그리기 시연영상.hwpx',\n",
       " '[14]_[파이썬-아래아한글자동화] 초간단 파이썬코딩으로 픽셀아트(100x50) 그리기 시연영상.mp4',\n",
       " '[14]_[파이썬-아래아한글자동화] 초간단 파이썬코딩으로 픽셀아트(100x50) 그리기 시연영상.png',\n",
       " '[14]_[파이썬-아래아한글자동화] 초간단 파이썬코딩으로 픽셀아트(100x50) 그리기 시연영상.py',\n",
       " '[15]_[파이썬-아래아한글 자동화 입문] 셀채우기 코드로 아름다운 모자이크아트 만들어보기.hwpx',\n",
       " '[15]_[파이썬-아래아한글 자동화 입문] 셀채우기 코드로 아름다운 모자이크아트 만들어보기.mp4',\n",
       " '[15]_[파이썬-아래아한글 자동화 입문] 셀채우기 코드로 아름다운 모자이크아트 만들어보기.png',\n",
       " '[15]_[파이썬-아래아한글 자동화 입문] 셀채우기 코드로 아름다운 모자이크아트 만들어보기.py',\n",
       " '[19]_파이썬 코딩으로 한_글 표 생성하는 모습.mp4',\n",
       " '[19]_파이썬 코딩으로 한_글 표 생성하는 모습.py',\n",
       " '[20]_파이썬으로 아래아한글 정규식 찾아바꾸기 직접구현하기.hwpx',\n",
       " '[20]_파이썬으로 아래아한글 정규식 찾아바꾸기 직접구현하기.mp4',\n",
       " '[20]_파이썬으로 아래아한글 정규식 찾아바꾸기 직접구현하기.py',\n",
       " '[22]_한_글문서 페이지별로 쪼개서 저장하기[파이썬-한_글 자동화].mp4',\n",
       " '[22]_한_글문서 페이지별로 쪼개서 저장하기[파이썬-한_글 자동화].py',\n",
       " '[23]_다양한 여백의 첨부문서들 병합하기 [파이썬-한_글 자동화].hwpx',\n",
       " '[23]_다양한 여백의 첨부문서들 병합하기 [파이썬-한_글 자동화].mp4',\n",
       " '[23]_다양한 여백의 첨부문서들 병합하기 [파이썬-한_글 자동화].py',\n",
       " '[25]_표삭제시 확인팝업 안뜨게 하기.ipynb',\n",
       " '[25]_표삭제시 확인팝업 안뜨게 하기.mp4',\n",
       " '[26]_문서비교 툴 구현해보기(1_2) [파이썬-한_글 자동화].mp4',\n",
       " '[26]_문서비교 툴 구현해보기(1_2) [파이썬-한_글 자동화].py',\n",
       " '[26]_문서비교 툴 구현해보기(2_2) [파이썬-한_글 자동화].mp4',\n",
       " '[30]_HWP보고서에 쇼핑몰 검색결과를 담는 방법 [파이썬으로 한컴오피스 한글2018 조작하는 방법7 _ (1_3)나라장터쇼핑몰 물품목록 만들기].mp4',\n",
       " '[30]_HWP보고서에 쇼핑몰 검색결과를 담는 방법 [파이썬으로 한컴오피스 한글2018 조작하는 방법7 _ (1_3)나라장터쇼핑몰 물품목록 만들기].py',\n",
       " '[30]_HWP보고서에 쇼핑몰 검색결과를 담는 방법 [파이썬으로 한컴오피스 한글2018 조작하는 방법7 _ (2_3)나라장터쇼핑몰 물품목록 만들기].mp4',\n",
       " '[30]_HWP보고서에 쇼핑몰 검색결과를 담는 방법 [파이썬으로 한컴오피스 한글2018 조작하는 방법7 _ (3_3)나라장터쇼핑몰 물품목록 만들기].mp4',\n",
       " '[31]_온라인경영공시 내용을 자동으로 HWP 보고서에 담기 [파이썬으로 한컴오피스 한글2018 조작하는 방법6 _ html table태그를 아래한글 표로 옮기기].ipynb',\n",
       " '[31]_온라인경영공시 내용을 자동으로 HWP 보고서에 담기 [파이썬으로 한컴오피스 한글2018 조작하는 방법6 _ html table태그를 아래한글 표로 옮기기].mp4',\n",
       " '[32]_한컴오피스 자동화 입문5 _ 개요나 스타일 없이도 목차페이지 만들기 feat.파이썬.mp4',\n",
       " '[32]_한컴오피스 자동화 입문5 _ 개요나 스타일 없이도 목차페이지 만들기 feat.파이썬.py',\n",
       " '[33]_중간실습(50분 분량)].ipynb',\n",
       " '[33]_중간실습(50분 분량)].mp4',\n",
       " '[35]_.ipynb',\n",
       " '[35]_수백개의 HWP파일을 PDF로 변환해야 한다면_ [파이썬으로 한컴오피스 한글2018 조작하는 방법2 _ PDF일괄변환].mp4',\n",
       " '[36]_.ipynb',\n",
       " '[36]_한컴오피스 자동화 입문1 _ 상장 자동제작 feat.파이썬.mp4',\n",
       " '[37]_.ipynb',\n",
       " '[37]_[파이썬]응용프로그램창 백그라운드로 숨기는 방법(win32gui).mp4',\n",
       " '[38]_.ipynb',\n",
       " '[38]_회사원코딩 - 파이썬으로 폴더이름 자유롭게 바꾸기.mp4',\n",
       " '첨부파일']"
      ]
     },
     "execution_count": 2,
     "metadata": {},
     "output_type": "execute_result"
    }
   ],
   "source": [
    "os.listdir()"
   ]
  },
  {
   "cell_type": "code",
   "execution_count": 4,
   "metadata": {},
   "outputs": [],
   "source": [
    "os.chdir('첨부파일')"
   ]
  },
  {
   "cell_type": "code",
   "execution_count": 6,
   "metadata": {},
   "outputs": [
    {
     "ename": "PermissionError",
     "evalue": "[WinError 32] 다른 프로세스가 파일을 사용 중이기 때문에 프로세스가 액세스 할 수 없습니다: '[33]_중간실습(42주차).hwpx' -> '[33]_중간실습(42주차).hwpx'",
     "output_type": "error",
     "traceback": [
      "\u001b[1;31m---------------------------------------------------------------------------\u001b[0m",
      "\u001b[1;31mPermissionError\u001b[0m                           Traceback (most recent call last)",
      "Cell \u001b[1;32mIn[6], line 2\u001b[0m\n\u001b[0;32m      1\u001b[0m \u001b[38;5;28;01mfor\u001b[39;00m i \u001b[38;5;129;01min\u001b[39;00m os\u001b[38;5;241m.\u001b[39mlistdir():\n\u001b[1;32m----> 2\u001b[0m     \u001b[43mos\u001b[49m\u001b[38;5;241;43m.\u001b[39;49m\u001b[43mrename\u001b[49m\u001b[43m(\u001b[49m\u001b[43mi\u001b[49m\u001b[43m,\u001b[49m\u001b[43m \u001b[49m\u001b[43mi\u001b[49m\u001b[38;5;241;43m.\u001b[39;49m\u001b[43mreplace\u001b[49m\u001b[43m(\u001b[49m\u001b[38;5;124;43m'\u001b[39;49m\u001b[38;5;124;43m - 복사본 \u001b[39;49m\u001b[38;5;124;43m'\u001b[39;49m\u001b[43m,\u001b[49m\u001b[43m \u001b[49m\u001b[38;5;124;43m'\u001b[39;49m\u001b[38;5;124;43m'\u001b[39;49m\u001b[43m)\u001b[49m\u001b[43m)\u001b[49m\n",
      "\u001b[1;31mPermissionError\u001b[0m: [WinError 32] 다른 프로세스가 파일을 사용 중이기 때문에 프로세스가 액세스 할 수 없습니다: '[33]_중간실습(42주차).hwpx' -> '[33]_중간실습(42주차).hwpx'"
     ]
    }
   ],
   "source": [
    "for i in os.listdir():\n",
    "    os.rename(i, i.replace(' - 복사본 ', ''))"
   ]
  },
  {
   "cell_type": "code",
   "execution_count": 8,
   "metadata": {},
   "outputs": [],
   "source": [
    "import win32com.client as win32"
   ]
  },
  {
   "cell_type": "code",
   "execution_count": 9,
   "metadata": {},
   "outputs": [],
   "source": [
    "hwp = win32.Dispatch(\"HWPFrame.HwpObject\")"
   ]
  },
  {
   "cell_type": "code",
   "execution_count": 10,
   "metadata": {},
   "outputs": [],
   "source": [
    "import win32gui"
   ]
  },
  {
   "cell_type": "code",
   "execution_count": 11,
   "metadata": {},
   "outputs": [],
   "source": [
    "hwnd = win32gui.FindWindow(None, '빈 문서 1 - 한글')"
   ]
  },
  {
   "cell_type": "code",
   "execution_count": 12,
   "metadata": {},
   "outputs": [
    {
     "data": {
      "text/plain": [
       "1312028"
      ]
     },
     "execution_count": 12,
     "metadata": {},
     "output_type": "execute_result"
    }
   ],
   "source": [
    "hwnd"
   ]
  },
  {
   "cell_type": "code",
   "execution_count": 13,
   "metadata": {},
   "outputs": [
    {
     "data": {
      "text/plain": [
       "0"
      ]
     },
     "execution_count": 13,
     "metadata": {},
     "output_type": "execute_result"
    }
   ],
   "source": [
    "win32gui.ShowWindow(hwnd, 0)    "
   ]
  },
  {
   "cell_type": "code",
   "execution_count": 14,
   "metadata": {},
   "outputs": [
    {
     "data": {
      "text/plain": [
       "False"
      ]
     },
     "execution_count": 14,
     "metadata": {},
     "output_type": "execute_result"
    }
   ],
   "source": [
    "hwp.RegisterModule(\"FilePathCheckDLL\", \"FilePathCheckerModule\")"
   ]
  },
  {
   "cell_type": "code",
   "execution_count": 15,
   "metadata": {},
   "outputs": [],
   "source": [
    "BASE_DIR = '첨부파일'"
   ]
  },
  {
   "cell_type": "code",
   "execution_count": 16,
   "metadata": {},
   "outputs": [
    {
     "data": {
      "text/plain": [
       "'c:\\\\Users\\\\jjc\\\\Desktop\\\\한컴오피스 업무자동화 입문\\\\첨부파일'"
      ]
     },
     "execution_count": 16,
     "metadata": {},
     "output_type": "execute_result"
    }
   ],
   "source": [
    "os.getcwd()"
   ]
  },
  {
   "cell_type": "code",
   "execution_count": 17,
   "metadata": {},
   "outputs": [
    {
     "data": {
      "text/plain": [
       "['[33]_중간실습(01주차).hwpx',\n",
       " '[33]_중간실습(42주차).hwpx',\n",
       " '개요없이목차 - 복사본.hwpx',\n",
       " '개요없이목차.hwpx',\n",
       " '개요없이목차.pdf',\n",
       " '별헤는밤_원본.hwpx',\n",
       " '별헤는밤_조작.hwpx',\n",
       " '비교표.hwpx']"
      ]
     },
     "execution_count": 17,
     "metadata": {},
     "output_type": "execute_result"
    }
   ],
   "source": [
    "os.listdir()"
   ]
  },
  {
   "cell_type": "code",
   "execution_count": 18,
   "metadata": {},
   "outputs": [
    {
     "data": {
      "text/plain": [
       "8"
      ]
     },
     "execution_count": 18,
     "metadata": {},
     "output_type": "execute_result"
    }
   ],
   "source": [
    "len(os.listdir())"
   ]
  },
  {
   "cell_type": "code",
   "execution_count": 19,
   "metadata": {},
   "outputs": [],
   "source": [
    "for i in os.listdir():\n",
    "    hwp.Open(os.path.join(BASE_DIR, i))\n",
    "    hwp.HAction.GetDefault(\"FileSaveAsPdf\", hwp.HParameterSet.HFileOpenSave.HSet)\n",
    "    hwp.HParameterSet.HFileOpenSave.filename = os.path.join(BASE_DIR, i.replace('.hwpx', '.pdf'))\n",
    "    hwp.HParameterSet.HFileOpenSave.Format = \"PDF\"\n",
    "    hwp.HAction.Execute(\"FileSaveAsPdf\", hwp.HParameterSet.HFileOpenSave.HSet)"
   ]
  },
  {
   "cell_type": "code",
   "execution_count": 1,
   "metadata": {},
   "outputs": [
    {
     "ename": "NameError",
     "evalue": "name 'os' is not defined",
     "output_type": "error",
     "traceback": [
      "\u001b[1;31m---------------------------------------------------------------------------\u001b[0m",
      "\u001b[1;31mNameError\u001b[0m                                 Traceback (most recent call last)",
      "Cell \u001b[1;32mIn[1], line 1\u001b[0m\n\u001b[1;32m----> 1\u001b[0m \u001b[38;5;28;01mfor\u001b[39;00m i \u001b[38;5;129;01min\u001b[39;00m \u001b[43mos\u001b[49m\u001b[38;5;241m.\u001b[39mlistdir():\n\u001b[0;32m      2\u001b[0m     hwp\u001b[38;5;241m.\u001b[39mOpen(os\u001b[38;5;241m.\u001b[39mpath\u001b[38;5;241m.\u001b[39mjoin(BASE_DIR, i))\n\u001b[0;32m      3\u001b[0m     hwp\u001b[38;5;241m.\u001b[39mHAction\u001b[38;5;241m.\u001b[39mRun(\u001b[38;5;124m\"\u001b[39m\u001b[38;5;124mFileSaveAs\u001b[39m\u001b[38;5;124m\"\u001b[39m, hwp\u001b[38;5;241m.\u001b[39mHParameterSet\u001b[38;5;241m.\u001b[39mHFileOpenSave\u001b[38;5;241m.\u001b[39mHSet)\n",
      "\u001b[1;31mNameError\u001b[0m: name 'os' is not defined"
     ]
    }
   ],
   "source": [
    "for i in os.listdir():\n",
    "    hwp.Open(os.path.join(BASE_DIR, i))\n",
    "    hwp.HAction.Run(\"FileSaveAs\", hwp.HParameterSet.HFileOpenSave.HSet)\n",
    "    hwp.HParameterSet.HFileOpenSave.filename = os.path.join(BASE_DIR, i.replace('.hwpx', '.pdf'))\n",
    "    hwp.HParameterSet.HFileOpenSave.Format = \"PDF\"\n",
    "    hwp.HAction.Execute(\"FileSaveAs\", hwp.HParameterSet.HFileOpenSave.HSet)"
   ]
  },
  {
   "cell_type": "code",
   "execution_count": 2,
   "metadata": {},
   "outputs": [
    {
     "ename": "NameError",
     "evalue": "name 'win32gui' is not defined",
     "output_type": "error",
     "traceback": [
      "\u001b[1;31m---------------------------------------------------------------------------\u001b[0m",
      "\u001b[1;31mNameError\u001b[0m                                 Traceback (most recent call last)",
      "Cell \u001b[1;32mIn[2], line 1\u001b[0m\n\u001b[1;32m----> 1\u001b[0m \u001b[43mwin32gui\u001b[49m\u001b[38;5;241m.\u001b[39mShowWindow(hwnd, \u001b[38;5;241m5\u001b[39m)\n",
      "\u001b[1;31mNameError\u001b[0m: name 'win32gui' is not defined"
     ]
    }
   ],
   "source": [
    "win32gui.ShowWindow(hwnd, 5)"
   ]
  },
  {
   "cell_type": "code",
   "execution_count": 3,
   "metadata": {},
   "outputs": [
    {
     "ename": "NameError",
     "evalue": "name 'hwp' is not defined",
     "output_type": "error",
     "traceback": [
      "\u001b[1;31m---------------------------------------------------------------------------\u001b[0m",
      "\u001b[1;31mNameError\u001b[0m                                 Traceback (most recent call last)",
      "Cell \u001b[1;32mIn[3], line 1\u001b[0m\n\u001b[1;32m----> 1\u001b[0m \u001b[38;5;28;01mdel\u001b[39;00m \u001b[43mhwp\u001b[49m\n",
      "\u001b[1;31mNameError\u001b[0m: name 'hwp' is not defined"
     ]
    }
   ],
   "source": [
    "del hwp"
   ]
  },
  {
   "cell_type": "code",
   "execution_count": 4,
   "metadata": {},
   "outputs": [
    {
     "ename": "NameError",
     "evalue": "name 'win32' is not defined",
     "output_type": "error",
     "traceback": [
      "\u001b[1;31m---------------------------------------------------------------------------\u001b[0m",
      "\u001b[1;31mNameError\u001b[0m                                 Traceback (most recent call last)",
      "Cell \u001b[1;32mIn[4], line 1\u001b[0m\n\u001b[1;32m----> 1\u001b[0m \u001b[38;5;28;01mdel\u001b[39;00m \u001b[43mwin32\u001b[49m\n",
      "\u001b[1;31mNameError\u001b[0m: name 'win32' is not defined"
     ]
    }
   ],
   "source": [
    "del win32"
   ]
  },
  {
   "cell_type": "code",
   "execution_count": null,
   "metadata": {},
   "outputs": [],
   "source": []
  },
  {
   "cell_type": "code",
   "execution_count": null,
   "metadata": {},
   "outputs": [],
   "source": []
  },
  {
   "cell_type": "code",
   "execution_count": null,
   "metadata": {},
   "outputs": [],
   "source": []
  },
  {
   "cell_type": "code",
   "execution_count": null,
   "metadata": {},
   "outputs": [],
   "source": []
  },
  {
   "cell_type": "code",
   "execution_count": null,
   "metadata": {},
   "outputs": [],
   "source": []
  },
  {
   "cell_type": "code",
   "execution_count": null,
   "metadata": {},
   "outputs": [],
   "source": []
  },
  {
   "cell_type": "code",
   "execution_count": null,
   "metadata": {},
   "outputs": [],
   "source": []
  },
  {
   "cell_type": "code",
   "execution_count": null,
   "metadata": {},
   "outputs": [],
   "source": []
  },
  {
   "cell_type": "code",
   "execution_count": null,
   "metadata": {},
   "outputs": [],
   "source": []
  },
  {
   "cell_type": "code",
   "execution_count": null,
   "metadata": {},
   "outputs": [],
   "source": []
  },
  {
   "cell_type": "code",
   "execution_count": null,
   "metadata": {},
   "outputs": [],
   "source": []
  },
  {
   "cell_type": "code",
   "execution_count": null,
   "metadata": {},
   "outputs": [],
   "source": []
  },
  {
   "cell_type": "code",
   "execution_count": null,
   "metadata": {},
   "outputs": [],
   "source": []
  },
  {
   "cell_type": "code",
   "execution_count": null,
   "metadata": {},
   "outputs": [],
   "source": []
  },
  {
   "cell_type": "code",
   "execution_count": null,
   "metadata": {},
   "outputs": [],
   "source": []
  },
  {
   "cell_type": "code",
   "execution_count": null,
   "metadata": {},
   "outputs": [],
   "source": []
  },
  {
   "cell_type": "code",
   "execution_count": null,
   "metadata": {},
   "outputs": [],
   "source": []
  },
  {
   "cell_type": "code",
   "execution_count": null,
   "metadata": {},
   "outputs": [],
   "source": []
  },
  {
   "cell_type": "code",
   "execution_count": null,
   "metadata": {},
   "outputs": [],
   "source": []
  },
  {
   "cell_type": "code",
   "execution_count": null,
   "metadata": {},
   "outputs": [],
   "source": []
  },
  {
   "cell_type": "code",
   "execution_count": null,
   "metadata": {},
   "outputs": [],
   "source": []
  },
  {
   "cell_type": "code",
   "execution_count": null,
   "metadata": {},
   "outputs": [],
   "source": []
  },
  {
   "cell_type": "code",
   "execution_count": null,
   "metadata": {},
   "outputs": [],
   "source": []
  }
 ],
 "metadata": {
  "kernelspec": {
   "display_name": "Python 3",
   "language": "python",
   "name": "python3"
  },
  "language_info": {
   "codemirror_mode": {
    "name": "ipython",
    "version": 3
   },
   "file_extension": ".py",
   "mimetype": "text/x-python",
   "name": "python",
   "nbconvert_exporter": "python",
   "pygments_lexer": "ipython3",
   "version": "3.12.5"
  }
 },
 "nbformat": 4,
 "nbformat_minor": 2
}
